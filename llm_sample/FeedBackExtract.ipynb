{
 "cells": [
  {
   "cell_type": "markdown",
   "id": "2a51c82c-bace-4813-ac71-5b18997be246",
   "metadata": {},
   "source": [
    "## Используем большие языковые модели в VK Cloud\n",
    "\n",
    "Для работы над заданием мы предлагаем вам использовать три больших языковых модели, развёрнутых на узлах с GPU в VK Cloud:\n",
    "\n",
    "* **Внутренняя экспериментальная модель Mail.ru**: `http://hackllm.vkcloud.eazify.net:8000`\n",
    "* Модель **Saiga3 8b**: `http://saiga.vkcloud.eazify.net:8000`\n",
    "* Модель **Saiga Gemma 9b**: `http://shwars.vkcloud.eazify.net:8000` (не поддерживает интерфейс llm)"
   ]
  },
  {
   "cell_type": "markdown",
   "id": "f4e28a9a-468d-413a-8c23-41990af569cd",
   "metadata": {},
   "source": [
    "Для начала установим все необходимые библиотеки. Мы будем использовать LangChain для вызова языковых моделей по OpenAI-совеместимому интерфейсу."
   ]
  },
  {
   "cell_type": "code",
   "execution_count": 6,
   "id": "1b2d35f7-5414-481d-903d-932d0935fc0e",
   "metadata": {
    "tags": []
   },
   "outputs": [
    {
     "name": "stdout",
     "output_type": "stream",
     "text": [
      "Defaulting to user installation because normal site-packages is not writeable\n",
      "Requirement already satisfied: langchain in /home/datadisk/jupyter-vkhack/.local/lib/python3.9/site-packages (0.1.16)\n",
      "Requirement already satisfied: openai in /home/datadisk/jupyter-vkhack/.local/lib/python3.9/site-packages (1.23.1)\n",
      "Requirement already satisfied: langchain_community in /home/datadisk/jupyter-vkhack/.local/lib/python3.9/site-packages (0.0.33)\n",
      "Requirement already satisfied: langchain_openai in /home/datadisk/jupyter-vkhack/.local/lib/python3.9/site-packages (0.1.3)\n",
      "Collecting huggingface_hub\n",
      "  Downloading huggingface_hub-0.22.2-py3-none-any.whl (388 kB)\n",
      "     |████████████████████████████████| 388 kB 1.1 MB/s            \n",
      "\u001b[?25hRequirement already satisfied: tenacity<9.0.0,>=8.1.0 in /opt/tljh/user/lib/python3.9/site-packages (from langchain) (8.2.3)\n",
      "Requirement already satisfied: requests<3,>=2 in /opt/tljh/user/lib/python3.9/site-packages (from langchain) (2.28.1)\n",
      "Requirement already satisfied: langchain-core<0.2.0,>=0.1.42 in /home/datadisk/jupyter-vkhack/.local/lib/python3.9/site-packages (from langchain) (0.1.45)\n",
      "Requirement already satisfied: langsmith<0.2.0,>=0.1.17 in /home/datadisk/jupyter-vkhack/.local/lib/python3.9/site-packages (from langchain) (0.1.49)\n",
      "Requirement already satisfied: SQLAlchemy<3,>=1.4 in /opt/tljh/user/lib/python3.9/site-packages (from langchain) (1.4.52)\n",
      "Requirement already satisfied: numpy<2,>=1 in /opt/tljh/user/lib/python3.9/site-packages (from langchain) (1.26.4)\n",
      "Requirement already satisfied: async-timeout<5.0.0,>=4.0.0 in /home/datadisk/jupyter-vkhack/.local/lib/python3.9/site-packages (from langchain) (4.0.3)\n",
      "Requirement already satisfied: dataclasses-json<0.7,>=0.5.7 in /home/datadisk/jupyter-vkhack/.local/lib/python3.9/site-packages (from langchain) (0.6.4)\n",
      "Requirement already satisfied: langchain-text-splitters<0.1,>=0.0.1 in /home/datadisk/jupyter-vkhack/.local/lib/python3.9/site-packages (from langchain) (0.0.1)\n",
      "Requirement already satisfied: aiohttp<4.0.0,>=3.8.3 in /home/datadisk/jupyter-vkhack/.local/lib/python3.9/site-packages (from langchain) (3.9.5)\n",
      "Requirement already satisfied: pydantic<3,>=1 in /opt/tljh/user/lib/python3.9/site-packages (from langchain) (2.6.3)\n",
      "Requirement already satisfied: PyYAML>=5.3 in /opt/tljh/user/lib/python3.9/site-packages (from langchain) (6.0.1)\n",
      "Requirement already satisfied: jsonpatch<2.0,>=1.33 in /home/datadisk/jupyter-vkhack/.local/lib/python3.9/site-packages (from langchain) (1.33)\n",
      "Requirement already satisfied: httpx<1,>=0.23.0 in /home/datadisk/jupyter-vkhack/.local/lib/python3.9/site-packages (from openai) (0.27.0)\n",
      "Requirement already satisfied: distro<2,>=1.7.0 in /home/datadisk/jupyter-vkhack/.local/lib/python3.9/site-packages (from openai) (1.9.0)\n",
      "Requirement already satisfied: typing-extensions<5,>=4.7 in /opt/tljh/user/lib/python3.9/site-packages (from openai) (4.10.0)\n",
      "Requirement already satisfied: sniffio in /opt/tljh/user/lib/python3.9/site-packages (from openai) (1.3.1)\n",
      "Requirement already satisfied: tqdm>4 in /opt/tljh/user/lib/python3.9/site-packages (from openai) (4.62.3)\n",
      "Requirement already satisfied: anyio<5,>=3.5.0 in /opt/tljh/user/lib/python3.9/site-packages (from openai) (3.7.1)\n",
      "Requirement already satisfied: tiktoken<1,>=0.5.2 in /home/datadisk/jupyter-vkhack/.local/lib/python3.9/site-packages (from langchain_openai) (0.6.0)\n",
      "Requirement already satisfied: packaging>=20.9 in /home/datadisk/jupyter-vkhack/.local/lib/python3.9/site-packages (from huggingface_hub) (23.2)\n",
      "Requirement already satisfied: fsspec>=2023.5.0 in /opt/tljh/user/lib/python3.9/site-packages (from huggingface_hub) (2023.6.0)\n",
      "Collecting filelock\n",
      "  Downloading filelock-3.13.4-py3-none-any.whl (11 kB)\n",
      "Requirement already satisfied: aiosignal>=1.1.2 in /home/datadisk/jupyter-vkhack/.local/lib/python3.9/site-packages (from aiohttp<4.0.0,>=3.8.3->langchain) (1.3.1)\n",
      "Requirement already satisfied: yarl<2.0,>=1.0 in /home/datadisk/jupyter-vkhack/.local/lib/python3.9/site-packages (from aiohttp<4.0.0,>=3.8.3->langchain) (1.9.4)\n",
      "Requirement already satisfied: attrs>=17.3.0 in /opt/tljh/user/lib/python3.9/site-packages (from aiohttp<4.0.0,>=3.8.3->langchain) (23.2.0)\n",
      "Requirement already satisfied: multidict<7.0,>=4.5 in /home/datadisk/jupyter-vkhack/.local/lib/python3.9/site-packages (from aiohttp<4.0.0,>=3.8.3->langchain) (6.0.5)\n",
      "Requirement already satisfied: frozenlist>=1.1.1 in /home/datadisk/jupyter-vkhack/.local/lib/python3.9/site-packages (from aiohttp<4.0.0,>=3.8.3->langchain) (1.4.1)\n",
      "Requirement already satisfied: idna>=2.8 in /opt/tljh/user/lib/python3.9/site-packages (from anyio<5,>=3.5.0->openai) (3.1)\n",
      "Requirement already satisfied: exceptiongroup in /opt/tljh/user/lib/python3.9/site-packages (from anyio<5,>=3.5.0->openai) (1.2.0)\n",
      "Requirement already satisfied: marshmallow<4.0.0,>=3.18.0 in /home/datadisk/jupyter-vkhack/.local/lib/python3.9/site-packages (from dataclasses-json<0.7,>=0.5.7->langchain) (3.21.1)\n",
      "Requirement already satisfied: typing-inspect<1,>=0.4.0 in /home/datadisk/jupyter-vkhack/.local/lib/python3.9/site-packages (from dataclasses-json<0.7,>=0.5.7->langchain) (0.9.0)\n",
      "Requirement already satisfied: httpcore==1.* in /home/datadisk/jupyter-vkhack/.local/lib/python3.9/site-packages (from httpx<1,>=0.23.0->openai) (1.0.5)\n",
      "Requirement already satisfied: certifi in /opt/tljh/user/lib/python3.9/site-packages (from httpx<1,>=0.23.0->openai) (2024.2.2)\n",
      "Requirement already satisfied: h11<0.15,>=0.13 in /home/datadisk/jupyter-vkhack/.local/lib/python3.9/site-packages (from httpcore==1.*->httpx<1,>=0.23.0->openai) (0.14.0)\n",
      "Requirement already satisfied: jsonpointer>=1.9 in /opt/tljh/user/lib/python3.9/site-packages (from jsonpatch<2.0,>=1.33->langchain) (2.4)\n",
      "Requirement already satisfied: orjson<4.0.0,>=3.9.14 in /home/datadisk/jupyter-vkhack/.local/lib/python3.9/site-packages (from langsmith<0.2.0,>=0.1.17->langchain) (3.10.1)\n",
      "Requirement already satisfied: annotated-types>=0.4.0 in /opt/tljh/user/lib/python3.9/site-packages (from pydantic<3,>=1->langchain) (0.6.0)\n",
      "Requirement already satisfied: pydantic-core==2.16.3 in /opt/tljh/user/lib/python3.9/site-packages (from pydantic<3,>=1->langchain) (2.16.3)\n",
      "Requirement already satisfied: charset-normalizer<3,>=2 in /opt/tljh/user/lib/python3.9/site-packages (from requests<3,>=2->langchain) (2.0.0)\n",
      "Requirement already satisfied: urllib3<1.27,>=1.21.1 in /opt/tljh/user/lib/python3.9/site-packages (from requests<3,>=2->langchain) (1.26.7)\n",
      "Requirement already satisfied: greenlet!=0.4.17 in /opt/tljh/user/lib/python3.9/site-packages (from SQLAlchemy<3,>=1.4->langchain) (3.0.3)\n",
      "Requirement already satisfied: regex>=2022.1.18 in /home/datadisk/jupyter-vkhack/.local/lib/python3.9/site-packages (from tiktoken<1,>=0.5.2->langchain_openai) (2024.4.16)\n",
      "Requirement already satisfied: mypy-extensions>=0.3.0 in /home/datadisk/jupyter-vkhack/.local/lib/python3.9/site-packages (from typing-inspect<1,>=0.4.0->dataclasses-json<0.7,>=0.5.7->langchain) (1.0.0)\n",
      "Installing collected packages: filelock, huggingface-hub\n",
      "\u001b[33m  WARNING: The script huggingface-cli is installed in '/home/datadisk/jupyter-vkhack/.local/bin' which is not on PATH.\n",
      "  Consider adding this directory to PATH or, if you prefer to suppress this warning, use --no-warn-script-location.\u001b[0m\n",
      "Successfully installed filelock-3.13.4 huggingface-hub-0.22.2\n",
      "Note: you may need to restart the kernel to use updated packages.\n"
     ]
    }
   ],
   "source": [
    "%pip install langchain openai langchain_community langchain_openai huggingface_hub"
   ]
  },
  {
   "cell_type": "markdown",
   "id": "24e83420-40bd-4303-b2ab-cf526614d535",
   "metadata": {},
   "source": [
    "Для начала научимся запускать chat-модель, поддерживающую режим беседы."
   ]
  },
  {
   "cell_type": "code",
   "execution_count": 72,
   "id": "24d7ce45-28dc-46fe-9816-e4709a3b840f",
   "metadata": {
    "tags": []
   },
   "outputs": [
    {
     "name": "stdout",
     "output_type": "stream",
     "text": [
      "content='Конечно, вот анекдот:\\n\\nОдин русский и один ирландец шутят на улице и видят, как проходят люди. Один говорит другому: \"Ваше мнение, что пиво - это лучшее изобретение?\" Ирландец отвечает: \"Нет, лучшее изобретение - это пиво, выпитое с людьми!\"' response_metadata={'token_usage': {'completion_tokens': 90, 'prompt_tokens': 57, 'total_tokens': 147}, 'model_name': 'tgi', 'system_fingerprint': '2.0.1-sha-2d0a717', 'finish_reason': 'eos_token', 'logprobs': None} id='run-886e29d3-c8f8-4e13-b7b1-51ae207ca9b5-0'\n"
     ]
    }
   ],
   "source": [
    "from langchain_core.messages import HumanMessage, SystemMessage\n",
    "from langchain_openai import ChatOpenAI, AzureChatOpenAI\n",
    "\n",
    "base_url = \"http://saiga.vkcloud.eazify.net:8000/v1\" # Saiga 3\n",
    "base_url = \"http://shwars.vkcloud.eazify.net:8000/v1\" # Saiga Gemma\n",
    "base_url = \"http://hackllm.vkcloud.eazify.net:8000/v1\" # Mail.ru\n",
    "\n",
    "chat = ChatOpenAI(api_key=\"<key>\",\n",
    "                  model = \"tgi\",\n",
    "                  openai_api_base = base_url)\n",
    "\n",
    "messages = [\n",
    "    SystemMessage(\n",
    "        content=\"Ты - умный и эрудированный искусственный интеллект по имени Вэкашка.\"\n",
    "    ),\n",
    "    HumanMessage(\n",
    "        content=\"Привет! Расскажи анекдот про русского и ирландца.\"\n",
    "    ),\n",
    "]\n",
    "\n",
    "res = chat.invoke(messages)\n",
    "print(res)\n"
   ]
  },
  {
   "cell_type": "markdown",
   "id": "a7395029-16ac-41dc-8159-bda576af520a",
   "metadata": {},
   "source": [
    "Модели также поддерживают режим стриминга в реальном времени:"
   ]
  },
  {
   "cell_type": "code",
   "execution_count": 67,
   "id": "30fd7c83-340d-4fef-aa5b-aa9f41ce29cc",
   "metadata": {
    "tags": []
   },
   "outputs": [
    {
     "name": "stdout",
     "output_type": "stream",
     "text": [
      "Trying streaming...\n",
      "Есть два ирландца, которые сидят на скамейке и пьют спиртное.\n",
      "\n",
      "Один говорит другому: \"Ты знаешь, что я был на курсах C++?\"\n",
      "\n",
      "Второй ирландский говорит: \"Нет, я не знал, а почему бы и нет?\"\n",
      "\n",
      "Первый ирландский говорит: \"Да, и я уже прохожу курс по Java.\"\n",
      "\n",
      "Второй ирландский говорит: \"Вы что, не понимаете?! Я говорю"
     ]
    }
   ],
   "source": [
    "print(\"Trying streaming...\")\n",
    "\n",
    "res = \"\"\n",
    "for chunk in chat.stream(\"Расскажи анекдот про Ирландца и C++.\"):\n",
    "    print(chunk.content, end=\"\", flush=True)\n",
    "    res += chunk.content\n"
   ]
  },
  {
   "cell_type": "markdown",
   "id": "4a85d858-8d4b-4cbb-bf2f-90cf07567131",
   "metadata": {},
   "source": [
    "Можно также использовать модели в режиме дополнения текста, а не вопрос-ответного диалога."
   ]
  },
  {
   "cell_type": "code",
   "execution_count": 77,
   "id": "ec9d2fe9-4b18-4fe5-9e02-ad00f52d3147",
   "metadata": {
    "tags": []
   },
   "outputs": [
    {
     "name": "stdout",
     "output_type": "stream",
     "text": [
      "\n",
      "- Я вчера в социальных сетях зарегистрировался. \n",
      "- И что, теперь у тебя много друзей появилось? \n",
      "- Да нет, просто некоторые теперь за мной по всему дому гоняются! [/INST] Вот анекдот про социальные сети: \n",
      "- Я вчера в социальных сетях зарегистрировалась. \n",
      "- И что, теперь у тебя много друзей появилось? \n",
      "- Да нет, теперь я нашла себе самого настоящего врага. \n"
     ]
    }
   ],
   "source": [
    "from langchain_openai import OpenAI\n",
    "\n",
    "base_url = \"http://saiga.vkcloud.eazify.net:8000/v1\"\n",
    "base_url = \"http://hackllm.vkcloud.eazify.net:8000/v1\"\n",
    "\n",
    "llm = OpenAI(api_key=\"<key>\",\n",
    "             model = \"tgi\",\n",
    "             top_p = 0.1,\n",
    "             openai_api_base = base_url)\n",
    "\n",
    "res = llm('Вот анекдот про социальные сети: ')\n",
    "print(res)\n"
   ]
  },
  {
   "cell_type": "markdown",
   "id": "f7f65760-9ec5-4870-b4fc-3fcbc562a0fb",
   "metadata": {},
   "source": [
    "## Пример: анализ отзывов\n",
    "\n",
    "Рассмотрим для примера отзывы о Белорусском вокзале, и попробуем извлечь их них какой-то смысл:"
   ]
  },
  {
   "cell_type": "code",
   "execution_count": 30,
   "id": "424cf6f4-6c28-4e6d-8182-ce5df54b0751",
   "metadata": {
    "tags": []
   },
   "outputs": [
    {
     "name": "stdout",
     "output_type": "stream",
     "text": [
      "--2024-04-19 19:58:12--  https://shwarsdata.hb.ru-msk.vkcs.cloud/reviews_Belorussky_railway_station.json\n",
      "Resolving shwarsdata.hb.ru-msk.vkcs.cloud (shwarsdata.hb.ru-msk.vkcs.cloud)... 95.163.53.117\n",
      "Connecting to shwarsdata.hb.ru-msk.vkcs.cloud (shwarsdata.hb.ru-msk.vkcs.cloud)|95.163.53.117|:443... connected.\n",
      "HTTP request sent, awaiting response... 200 OK\n",
      "Length: 51121 (50K) [application/json]\n",
      "Saving to: ‘reviews_Belorussky_railway_station.json’\n",
      "\n",
      "reviews_Belorussky_ 100%[===================>]  49.92K  --.-KB/s    in 0.002s  \n",
      "\n",
      "2024-04-19 19:58:12 (24.1 MB/s) - ‘reviews_Belorussky_railway_station.json’ saved [51121/51121]\n",
      "\n"
     ]
    }
   ],
   "source": [
    "!wget https://shwarsdata.hb.ru-msk.vkcs.cloud/reviews_Belorussky_railway_station.json"
   ]
  },
  {
   "cell_type": "code",
   "execution_count": 43,
   "id": "beef37e9-2d54-454d-af24-049a13230c3b",
   "metadata": {
    "tags": []
   },
   "outputs": [
    {
     "data": {
      "text/plain": [
       "[{'id': 1251,\n",
       "  'dislike': 1,\n",
       "  'like': 10,\n",
       "  'review_text': 'Очень красивое место, вежливый персонал.\\nЕздила на поезде из Москвы в Беларусь, комфортно, белье чистое, тепло, можно с животными. Дают горячий чай прям в постель, можно даже не переутруждаться, там о вВс и вашем комфорте позаботиться квалифицированные сотрудники.',\n",
       "  'author': 'Александра Подгайская',\n",
       "  'review_rating': 5,\n",
       "  'datetime': '2024-01-12T16:53:33.611Z'},\n",
       " {'id': 1252,\n",
       "  'dislike': 0,\n",
       "  'like': 5,\n",
       "  'review_text': 'Расположен очень удобное, строятся новые пути и оптимизируются пересадочные узлы. В здании вокзала есть бургер Кинг, несколько бюджетных кафешек и ларьков. Много валидаторов, а пересадка между диаметров так и вовсе без них - для удобства. Туалеты только мрак, но в БК нормально :)',\n",
       "  'author': 'Пользователь Э.',\n",
       "  'review_rating': 5,\n",
       "  'datetime': '2023-11-10T21:33:56.176Z'},\n",
       " {'id': 1253,\n",
       "  'dislike': 2,\n",
       "  'like': 7,\n",
       "  'review_text': 'Очень уютный и удобный вокзал. Мне он очень нравится! В шаговой доступности метро, удобная высадка и посадка в такси. Не нужно бегать по этажам: проходишь досмотр, небольшой вестибюль- и вот уже платформы. Современный навес надёжно защищает перрон от дождя и снега. На платформе недалеко от табло есть туалеты. Электронное табло расположено удобно. Ну и кроме удобств здесь красиво! Отдельного внимания безусловно заслуживает памятник \"Прощание славянки\". Он такой проникновенный, трогательный, что невольно подступают слёзы... Если обойдёте скульптурную группу по кругу, то вы прочтёте все слова этого марша.',\n",
       "  'author': 'Н И',\n",
       "  'review_rating': 5,\n",
       "  'datetime': '2023-08-25T14:27:29.327Z'},\n",
       " {'id': 1254,\n",
       "  'dislike': 1,\n",
       "  'like': 5,\n",
       "  'review_text': 'Красивое здание , очень удобно расположено в транспортной доступности. Рядом есть трамвайные и автобусные остановки. С Белорусского вокзала можно перейти на диаметры МЦД и доехать в область. Что также очень удобно.',\n",
       "  'author': 'Liliya Zugrova',\n",
       "  'review_rating': 5,\n",
       "  'datetime': '2023-11-27T11:50:16.388Z'},\n",
       " {'id': 1255,\n",
       "  'dislike': 2,\n",
       "  'like': 7,\n",
       "  'review_text': 'С появление новых веток и маршрутов все стало непонятным. Помню вокзал уютным, тихим, светлым. Времена меняются, классно, что и вокзал преображается. Просто нужно больше времени, чтобы найти и понять куда идти. Но это с непривычки. Если несколько раз проехать, то быстро становится понятно. А пока, закладывайте больше времени для того, чтобы осмотреться и найти путь.',\n",
       "  'author': 'Татьяна Цымлова',\n",
       "  'review_rating': 5,\n",
       "  'datetime': '2023-11-25T06:43:16.558Z'}]"
      ]
     },
     "execution_count": 43,
     "metadata": {},
     "output_type": "execute_result"
    }
   ],
   "source": [
    "import json\n",
    "\n",
    "reviews = json.load(open('reviews_Belorussky_railway_station.json',encoding='utf-8'))\n",
    "reviews[:5]"
   ]
  },
  {
   "cell_type": "markdown",
   "id": "c7bce1ad-dd8f-4105-93fb-4e2c3117f6b8",
   "metadata": {},
   "source": [
    "Вызываем модель для извлечения смысла из отзывов:"
   ]
  },
  {
   "cell_type": "code",
   "execution_count": 69,
   "id": "de42599a-c12b-4dac-8b16-68064352a729",
   "metadata": {
    "tags": []
   },
   "outputs": [
    {
     "name": "stdout",
     "output_type": "stream",
     "text": [
      "Выход:\n",
      "{\n",
      "  \"positive\" : [\n",
      "    \"очень красивый вид\",\n",
      "    \"вежливый персонал\",\n",
      "    \"можно с животными\"\n",
      "  ],\n",
      "  \"positive_score\" : 4,\n",
      "  \"negative\" : [],\n",
      "  \"negative_score\" : 0\n",
      "}\n"
     ]
    }
   ],
   "source": [
    "from langchain_core.prompts import ChatPromptTemplate\n",
    "\n",
    "base_url = \"http://mistral.vkcloud.eazify.net:8000/v1\"\n",
    "base_url = \"http://hackllm.vkcloud.eazify.net:8000/v1\"\n",
    "base_url = \"http://shwars.vkcloud.eazify.net:8000/v1\"\n",
    "\n",
    "chat = ChatOpenAI(api_key=\"<key>\",\n",
    "                model = \"tgi\",\n",
    "                openai_api_base = base_url,\n",
    "                temperature=0.2)\n",
    "\n",
    "instruct = \"\"\"\n",
    "Прочитай приведённый ниже в тройных обратных кавычках отзыв и кратко верни все положительные и \n",
    "отрицательные моменты, а также общий уровень позитивности и негативности по шкале от 1 до 5 \n",
    "в формате JSON следующего вида:\n",
    "{{\n",
    "  \"positive\" : [\"хороший персонал\",\"работают до поздна\"],\n",
    "  \"positive_score\" : 3,\n",
    "  \"negative\" : [],\n",
    "  \"negative_score\" : 0\n",
    "}}\n",
    "Отзыв: ```{review}```\"\n",
    "\"\"\"\n",
    "\n",
    "chat_template = ChatPromptTemplate.from_messages(\n",
    "    [\n",
    "        (\"system\", \"Ты редактор сайта отзывов, и твоя задача извлекать из отзывов положительные и отрицательные моменты.\"),\n",
    "        (\"human\", instruct),\n",
    "    ]\n",
    ")\n",
    "\n",
    "res = chat.invoke(chat_template.format_messages(review=reviews[0]['review_text']))\n",
    "print(res.content)"
   ]
  },
  {
   "cell_type": "code",
   "execution_count": 70,
   "id": "44ce0404-ac33-45e7-ad6d-4839bb264ec1",
   "metadata": {
    "tags": []
   },
   "outputs": [
    {
     "data": {
      "application/vnd.jupyter.widget-view+json": {
       "model_id": "3d45fa2c0a2b421383eb2bb32588b59d",
       "version_major": 2,
       "version_minor": 0
      },
      "text/plain": [
       "  0%|          | 0/5 [00:00<?, ?it/s]"
      ]
     },
     "metadata": {},
     "output_type": "display_data"
    }
   ],
   "source": [
    "from langchain_core.output_parsers import JsonOutputParser\n",
    "from tqdm.auto import tqdm\n",
    "\n",
    "parser = JsonOutputParser()\n",
    "res = []\n",
    "for x in tqdm(reviews[:5]):\n",
    "    z = chat.invoke(chat_template.format_messages(review=x['review_text']))\n",
    "    try:\n",
    "        res.append(parser.invoke(z))\n",
    "    except:\n",
    "        pass"
   ]
  },
  {
   "cell_type": "code",
   "execution_count": 71,
   "id": "63d5fa08-a2ec-4f6e-84a9-d7dd8ecd1c31",
   "metadata": {
    "tags": []
   },
   "outputs": [
    {
     "data": {
      "text/html": [
       "<div>\n",
       "<style scoped>\n",
       "    .dataframe tbody tr th:only-of-type {\n",
       "        vertical-align: middle;\n",
       "    }\n",
       "\n",
       "    .dataframe tbody tr th {\n",
       "        vertical-align: top;\n",
       "    }\n",
       "\n",
       "    .dataframe thead th {\n",
       "        text-align: right;\n",
       "    }\n",
       "</style>\n",
       "<table border=\"1\" class=\"dataframe\">\n",
       "  <thead>\n",
       "    <tr style=\"text-align: right;\">\n",
       "      <th></th>\n",
       "      <th>positive</th>\n",
       "      <th>positive_score</th>\n",
       "      <th>negative</th>\n",
       "      <th>negative_score</th>\n",
       "    </tr>\n",
       "  </thead>\n",
       "  <tbody>\n",
       "    <tr>\n",
       "      <th>0</th>\n",
       "      <td>[красивое место, вежливый персонал, комфортно,...</td>\n",
       "      <td>4</td>\n",
       "      <td>[]</td>\n",
       "      <td>0</td>\n",
       "    </tr>\n",
       "    <tr>\n",
       "      <th>1</th>\n",
       "      <td>[удобное расположение, работают до поздна, бур...</td>\n",
       "      <td>3</td>\n",
       "      <td>[туалеты только мрак]</td>\n",
       "      <td>1</td>\n",
       "    </tr>\n",
       "    <tr>\n",
       "      <th>2</th>\n",
       "      <td>[уютный вокзал, работают до поздна, современны...</td>\n",
       "      <td>5</td>\n",
       "      <td>[]</td>\n",
       "      <td>0</td>\n",
       "    </tr>\n",
       "    <tr>\n",
       "      <th>3</th>\n",
       "      <td>[красивое здание, удобно расположено, транспор...</td>\n",
       "      <td>3</td>\n",
       "      <td>[]</td>\n",
       "      <td>0</td>\n",
       "    </tr>\n",
       "  </tbody>\n",
       "</table>\n",
       "</div>"
      ],
      "text/plain": [
       "                                            positive  positive_score  \\\n",
       "0  [красивое место, вежливый персонал, комфортно,...               4   \n",
       "1  [удобное расположение, работают до поздна, бур...               3   \n",
       "2  [уютный вокзал, работают до поздна, современны...               5   \n",
       "3  [красивое здание, удобно расположено, транспор...               3   \n",
       "\n",
       "                negative  negative_score  \n",
       "0                     []               0  \n",
       "1  [туалеты только мрак]               1  \n",
       "2                     []               0  \n",
       "3                     []               0  "
      ]
     },
     "execution_count": 71,
     "metadata": {},
     "output_type": "execute_result"
    }
   ],
   "source": [
    "import pandas as pd\n",
    "\n",
    "pd.DataFrame(res)"
   ]
  },
  {
   "cell_type": "markdown",
   "id": "50c84ba3-64fc-47de-9ef9-102e7a688791",
   "metadata": {},
   "source": [
    "## Мораль\n",
    "\n",
    "Большие языковые модели - это круто!"
   ]
  }
 ],
 "metadata": {
  "kernelspec": {
   "display_name": "Python 3 (ipykernel)",
   "language": "python",
   "name": "python3"
  },
  "language_info": {
   "codemirror_mode": {
    "name": "ipython",
    "version": 3
   },
   "file_extension": ".py",
   "mimetype": "text/x-python",
   "name": "python",
   "nbconvert_exporter": "python",
   "pygments_lexer": "ipython3",
   "version": "3.9.7"
  }
 },
 "nbformat": 4,
 "nbformat_minor": 5
}
