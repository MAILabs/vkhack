{
 "cells": [
  {
   "cell_type": "markdown",
   "id": "edcd6a96-e2f0-45ea-88d4-0cc11394ab07",
   "metadata": {},
   "source": [
    "## Предсказание пола/возраста по посещениям сайтов\n",
    "\n",
    "Для начала, подключим хранилище s3, содержащее исходные данные:"
   ]
  },
  {
   "cell_type": "code",
   "execution_count": 9,
   "id": "3ef00818-c3bf-4a01-ab3b-ed96f4ad32f3",
   "metadata": {
    "tags": []
   },
   "outputs": [],
   "source": [
    "!chmod 600 .s3_passwd\n",
    "!mkdir -p mnt\n",
    "!s3fs hsevkhack mnt -o url=http://hb.vkcs.cloud -o use_path_request_style -o passwd_file=.s3_passwd -o ro"
   ]
  },
  {
   "cell_type": "markdown",
   "id": "b18ac963-f688-4263-99dc-5fc0ba5d4225",
   "metadata": {
    "tags": []
   },
   "source": [
    "Убедимся, что в директории `mnt` содержатся соответствующие таблицы:"
   ]
  },
  {
   "cell_type": "code",
   "execution_count": 10,
   "id": "af0a3a60-6a01-4409-aec2-d891125a2dc2",
   "metadata": {
    "tags": []
   },
   "outputs": [
    {
     "name": "stdout",
     "output_type": "stream",
     "text": [
      "geo_dataframe.csv  requests  train_users.csv\n"
     ]
    }
   ],
   "source": [
    "!ls mnt/"
   ]
  },
  {
   "cell_type": "markdown",
   "id": "c173c190-dc10-4e36-b5dd-77197e312e08",
   "metadata": {},
   "source": [
    "Если по каким-то причинам директорию смонтировать не удалось, используйте код ниже, чтобы скачать данные к себе в локальное хранилище. В противном случае **пропустите следующую ячейку**."
   ]
  },
  {
   "cell_type": "code",
   "execution_count": null,
   "id": "5a42c666-ce6f-4827-847d-01c95f50bc62",
   "metadata": {
    "tags": []
   },
   "outputs": [],
   "source": [
    "import subprocess\n",
    "!mkdir -p data\n",
    "!wget https://hsehack.hb.ru-msk.vkcs.cloud/geo_dataframe.csv -P data\n",
    "!wget https://hsehack.hb.ru-msk.vkcs.cloud/train_users.csv -P data\n",
    "!mkdir -p data/requests\n",
    "for i in range(30):\n",
    "    print(f\"Downloading part {i}...\")\n",
    "    subprocess.call([\"wget\", f\"https://hsehack.hb.ru-msk.vkcs.cloud/requests/part_{i}.parquet\", \"-q\", \"-P\", \"data/requests\"])"
   ]
  },
  {
   "cell_type": "markdown",
   "id": "91eb607a-d14d-4dda-9dae-6e44e4bc80bf",
   "metadata": {},
   "source": [
    "## Загружаем данные\n",
    "\n",
    "Используем Pandas для работы с таблицами. `geo_dataframe` содержит данные о геолокации - регионе и стране."
   ]
  },
  {
   "cell_type": "code",
   "execution_count": 11,
   "id": "807c3f20-c421-4a7b-9314-ec9112984948",
   "metadata": {
    "tags": []
   },
   "outputs": [
    {
     "data": {
      "text/html": [
       "<div>\n",
       "<style scoped>\n",
       "    .dataframe tbody tr th:only-of-type {\n",
       "        vertical-align: middle;\n",
       "    }\n",
       "\n",
       "    .dataframe tbody tr th {\n",
       "        vertical-align: top;\n",
       "    }\n",
       "\n",
       "    .dataframe thead th {\n",
       "        text-align: right;\n",
       "    }\n",
       "</style>\n",
       "<table border=\"1\" class=\"dataframe\">\n",
       "  <thead>\n",
       "    <tr style=\"text-align: right;\">\n",
       "      <th></th>\n",
       "      <th>geo_id</th>\n",
       "      <th>region_id</th>\n",
       "      <th>country_id</th>\n",
       "    </tr>\n",
       "  </thead>\n",
       "  <tbody>\n",
       "    <tr>\n",
       "      <th>0</th>\n",
       "      <td>1</td>\n",
       "      <td>157</td>\n",
       "      <td>40</td>\n",
       "    </tr>\n",
       "    <tr>\n",
       "      <th>1</th>\n",
       "      <td>2</td>\n",
       "      <td>161</td>\n",
       "      <td>40</td>\n",
       "    </tr>\n",
       "    <tr>\n",
       "      <th>2</th>\n",
       "      <td>3</td>\n",
       "      <td>265</td>\n",
       "      <td>54</td>\n",
       "    </tr>\n",
       "    <tr>\n",
       "      <th>3</th>\n",
       "      <td>4</td>\n",
       "      <td>122</td>\n",
       "      <td>54</td>\n",
       "    </tr>\n",
       "    <tr>\n",
       "      <th>4</th>\n",
       "      <td>5</td>\n",
       "      <td>78</td>\n",
       "      <td>40</td>\n",
       "    </tr>\n",
       "    <tr>\n",
       "      <th>...</th>\n",
       "      <td>...</td>\n",
       "      <td>...</td>\n",
       "      <td>...</td>\n",
       "    </tr>\n",
       "    <tr>\n",
       "      <th>5528</th>\n",
       "      <td>5529</td>\n",
       "      <td>246</td>\n",
       "      <td>54</td>\n",
       "    </tr>\n",
       "    <tr>\n",
       "      <th>5529</th>\n",
       "      <td>5530</td>\n",
       "      <td>-1</td>\n",
       "      <td>63</td>\n",
       "    </tr>\n",
       "    <tr>\n",
       "      <th>5530</th>\n",
       "      <td>5531</td>\n",
       "      <td>101</td>\n",
       "      <td>40</td>\n",
       "    </tr>\n",
       "    <tr>\n",
       "      <th>5531</th>\n",
       "      <td>5532</td>\n",
       "      <td>21</td>\n",
       "      <td>68</td>\n",
       "    </tr>\n",
       "    <tr>\n",
       "      <th>5532</th>\n",
       "      <td>5533</td>\n",
       "      <td>58</td>\n",
       "      <td>40</td>\n",
       "    </tr>\n",
       "  </tbody>\n",
       "</table>\n",
       "<p>5533 rows × 3 columns</p>\n",
       "</div>"
      ],
      "text/plain": [
       "      geo_id  region_id  country_id\n",
       "0          1        157          40\n",
       "1          2        161          40\n",
       "2          3        265          54\n",
       "3          4        122          54\n",
       "4          5         78          40\n",
       "...      ...        ...         ...\n",
       "5528    5529        246          54\n",
       "5529    5530         -1          63\n",
       "5530    5531        101          40\n",
       "5531    5532         21          68\n",
       "5532    5533         58          40\n",
       "\n",
       "[5533 rows x 3 columns]"
      ]
     },
     "execution_count": 11,
     "metadata": {},
     "output_type": "execute_result"
    }
   ],
   "source": [
    "import pandas as pd\n",
    "\n",
    "geo = pd.read_csv('mnt/geo_dataframe.csv')\n",
    "geo"
   ]
  },
  {
   "cell_type": "markdown",
   "id": "72b5ecce-e866-4e01-a2dd-1d26cd7452d9",
   "metadata": {},
   "source": [
    "Таблица `train_users` - это ваша обучающая выборка, содержащая пол и возраст пользователей. Аналогичная таблица для тестового датасета будет вам предоставлена за час до stop coding."
   ]
  },
  {
   "cell_type": "code",
   "execution_count": 12,
   "id": "d985e0cf-3d53-41d7-a004-2d081cb6573d",
   "metadata": {
    "tags": []
   },
   "outputs": [
    {
     "data": {
      "text/html": [
       "<div>\n",
       "<style scoped>\n",
       "    .dataframe tbody tr th:only-of-type {\n",
       "        vertical-align: middle;\n",
       "    }\n",
       "\n",
       "    .dataframe tbody tr th {\n",
       "        vertical-align: top;\n",
       "    }\n",
       "\n",
       "    .dataframe thead th {\n",
       "        text-align: right;\n",
       "    }\n",
       "</style>\n",
       "<table border=\"1\" class=\"dataframe\">\n",
       "  <thead>\n",
       "    <tr style=\"text-align: right;\">\n",
       "      <th></th>\n",
       "      <th>user_id</th>\n",
       "      <th>gender</th>\n",
       "      <th>age</th>\n",
       "    </tr>\n",
       "  </thead>\n",
       "  <tbody>\n",
       "    <tr>\n",
       "      <th>0</th>\n",
       "      <td>2</td>\n",
       "      <td>1</td>\n",
       "      <td>61</td>\n",
       "    </tr>\n",
       "    <tr>\n",
       "      <th>1</th>\n",
       "      <td>3</td>\n",
       "      <td>1</td>\n",
       "      <td>55</td>\n",
       "    </tr>\n",
       "    <tr>\n",
       "      <th>2</th>\n",
       "      <td>6</td>\n",
       "      <td>0</td>\n",
       "      <td>46</td>\n",
       "    </tr>\n",
       "    <tr>\n",
       "      <th>3</th>\n",
       "      <td>14</td>\n",
       "      <td>0</td>\n",
       "      <td>66</td>\n",
       "    </tr>\n",
       "    <tr>\n",
       "      <th>4</th>\n",
       "      <td>17</td>\n",
       "      <td>0</td>\n",
       "      <td>53</td>\n",
       "    </tr>\n",
       "    <tr>\n",
       "      <th>...</th>\n",
       "      <td>...</td>\n",
       "      <td>...</td>\n",
       "      <td>...</td>\n",
       "    </tr>\n",
       "    <tr>\n",
       "      <th>4999995</th>\n",
       "      <td>17588859</td>\n",
       "      <td>1</td>\n",
       "      <td>64</td>\n",
       "    </tr>\n",
       "    <tr>\n",
       "      <th>4999996</th>\n",
       "      <td>17588860</td>\n",
       "      <td>0</td>\n",
       "      <td>69</td>\n",
       "    </tr>\n",
       "    <tr>\n",
       "      <th>4999997</th>\n",
       "      <td>17588861</td>\n",
       "      <td>1</td>\n",
       "      <td>51</td>\n",
       "    </tr>\n",
       "    <tr>\n",
       "      <th>4999998</th>\n",
       "      <td>17588864</td>\n",
       "      <td>0</td>\n",
       "      <td>30</td>\n",
       "    </tr>\n",
       "    <tr>\n",
       "      <th>4999999</th>\n",
       "      <td>17588865</td>\n",
       "      <td>0</td>\n",
       "      <td>38</td>\n",
       "    </tr>\n",
       "  </tbody>\n",
       "</table>\n",
       "<p>5000000 rows × 3 columns</p>\n",
       "</div>"
      ],
      "text/plain": [
       "          user_id  gender  age\n",
       "0               2       1   61\n",
       "1               3       1   55\n",
       "2               6       0   46\n",
       "3              14       0   66\n",
       "4              17       0   53\n",
       "...           ...     ...  ...\n",
       "4999995  17588859       1   64\n",
       "4999996  17588860       0   69\n",
       "4999997  17588861       1   51\n",
       "4999998  17588864       0   30\n",
       "4999999  17588865       0   38\n",
       "\n",
       "[5000000 rows x 3 columns]"
      ]
     },
     "execution_count": 12,
     "metadata": {},
     "output_type": "execute_result"
    }
   ],
   "source": [
    "users = pd.read_csv('mnt/train_users.csv')\n",
    "users"
   ]
  },
  {
   "cell_type": "markdown",
   "id": "45812919-7ca9-4a01-8067-2a3d9ee2c96f",
   "metadata": {
    "tags": []
   },
   "source": [
    "Для примера - вот распределение пользователей по полу:"
   ]
  },
  {
   "cell_type": "code",
   "execution_count": 20,
   "id": "f2b0c5ce-cc19-463c-813b-7372f6b6a2df",
   "metadata": {
    "tags": []
   },
   "outputs": [
    {
     "data": {
      "text/plain": [
       "<AxesSubplot: xlabel='gender'>"
      ]
     },
     "execution_count": 20,
     "metadata": {},
     "output_type": "execute_result"
    },
    {
     "data": {
      "image/png": "[encoded data removed]",
      "text/plain": [
       "<Figure size 640x480 with 1 Axes>"
      ]
     },
     "metadata": {},
     "output_type": "display_data"
    }
   ],
   "source": [
    "users.groupby('gender').agg({ 'user_id' : len }).plot.bar()"
   ]
  },
  {
   "cell_type": "markdown",
   "id": "095a63d9-9ed2-40da-9206-26a9a6c71489",
   "metadata": {},
   "source": [
    "Основные данные о посещениях пользователями сайтов содержатся в табличке `requests`, представленной в формате parquet. Вы можете загрузить только одну часть таблички, или же всю таблицу, если она поместиться в памяти:"
   ]
  },
  {
   "cell_type": "code",
   "execution_count": 21,
   "id": "9e14f322-ec99-4c14-8e1a-ec373f767a9e",
   "metadata": {
    "tags": []
   },
   "outputs": [
    {
     "data": {
      "text/html": [
       "<div>\n",
       "<style scoped>\n",
       "    .dataframe tbody tr th:only-of-type {\n",
       "        vertical-align: middle;\n",
       "    }\n",
       "\n",
       "    .dataframe tbody tr th {\n",
       "        vertical-align: top;\n",
       "    }\n",
       "\n",
       "    .dataframe thead th {\n",
       "        text-align: right;\n",
       "    }\n",
       "</style>\n",
       "<table border=\"1\" class=\"dataframe\">\n",
       "  <thead>\n",
       "    <tr style=\"text-align: right;\">\n",
       "      <th></th>\n",
       "      <th>timestamp</th>\n",
       "      <th>geo_id</th>\n",
       "      <th>referer</th>\n",
       "      <th>user_id</th>\n",
       "      <th>user_agent</th>\n",
       "    </tr>\n",
       "  </thead>\n",
       "  <tbody>\n",
       "    <tr>\n",
       "      <th>0</th>\n",
       "      <td>1712169477</td>\n",
       "      <td>1224</td>\n",
       "      <td>https://www.domain_1118/path_107938</td>\n",
       "      <td>1628092</td>\n",
       "      <td>Mozilla/5.0 (Linux; Android 10; K) AppleWebKit...</td>\n",
       "    </tr>\n",
       "    <tr>\n",
       "      <th>1</th>\n",
       "      <td>1711945301</td>\n",
       "      <td>2540</td>\n",
       "      <td>https://domain_3207/path_175610</td>\n",
       "      <td>1013613</td>\n",
       "      <td>Mozilla/5.0 (Linux; Android 8.1.0; Redmi 5 Plu...</td>\n",
       "    </tr>\n",
       "    <tr>\n",
       "      <th>2</th>\n",
       "      <td>1712154596</td>\n",
       "      <td>4402</td>\n",
       "      <td>https://domain_2194/path_172150</td>\n",
       "      <td>8274161</td>\n",
       "      <td>Mozilla/5.0 (Windows NT 10.0; Win64; x64) Appl...</td>\n",
       "    </tr>\n",
       "    <tr>\n",
       "      <th>3</th>\n",
       "      <td>1711941903</td>\n",
       "      <td>3833</td>\n",
       "      <td>https://domain_2042/path_144480</td>\n",
       "      <td>17082498</td>\n",
       "      <td>Mozilla/5.0 (Windows NT 10.0; Win64; x64) Appl...</td>\n",
       "    </tr>\n",
       "    <tr>\n",
       "      <th>4</th>\n",
       "      <td>1712088484</td>\n",
       "      <td>3866</td>\n",
       "      <td>https://domain_3191/path_9105</td>\n",
       "      <td>12787875</td>\n",
       "      <td>Mozilla/5.0 (Windows NT 10.0; Win64; x64) Appl...</td>\n",
       "    </tr>\n",
       "    <tr>\n",
       "      <th>...</th>\n",
       "      <td>...</td>\n",
       "      <td>...</td>\n",
       "      <td>...</td>\n",
       "      <td>...</td>\n",
       "      <td>...</td>\n",
       "    </tr>\n",
       "    <tr>\n",
       "      <th>10000449</th>\n",
       "      <td>1712161101</td>\n",
       "      <td>702</td>\n",
       "      <td>https://domain_662/path_131980</td>\n",
       "      <td>2062442</td>\n",
       "      <td>Mozilla/5.0 (X11; Linux x86_64) AppleWebKit/53...</td>\n",
       "    </tr>\n",
       "    <tr>\n",
       "      <th>10000450</th>\n",
       "      <td>1711940706</td>\n",
       "      <td>3515</td>\n",
       "      <td>https://domain_1784/path_45033</td>\n",
       "      <td>2375719</td>\n",
       "      <td>Mozilla/5.0 (Linux; Android 10; K) AppleWebKit...</td>\n",
       "    </tr>\n",
       "    <tr>\n",
       "      <th>10000451</th>\n",
       "      <td>1712107755</td>\n",
       "      <td>3173</td>\n",
       "      <td>https://domain_1654/path_48166</td>\n",
       "      <td>11781572</td>\n",
       "      <td>Mozilla/5.0 (Linux; arm_64; Android 13; SM-A14...</td>\n",
       "    </tr>\n",
       "    <tr>\n",
       "      <th>10000452</th>\n",
       "      <td>1712107427</td>\n",
       "      <td>3833</td>\n",
       "      <td>https://domain_1654/path_10504</td>\n",
       "      <td>15183751</td>\n",
       "      <td>Mozilla/5.0 (Linux; arm_64; Android 12; SM-M21...</td>\n",
       "    </tr>\n",
       "    <tr>\n",
       "      <th>10000453</th>\n",
       "      <td>1712034201</td>\n",
       "      <td>964</td>\n",
       "      <td>https://www.domain_1605/path_166938</td>\n",
       "      <td>6247888</td>\n",
       "      <td>Mozilla/5.0 (Linux; Android 10; K) AppleWebKit...</td>\n",
       "    </tr>\n",
       "  </tbody>\n",
       "</table>\n",
       "<p>10000454 rows × 5 columns</p>\n",
       "</div>"
      ],
      "text/plain": [
       "           timestamp  geo_id                              referer   user_id  \\\n",
       "0         1712169477    1224  https://www.domain_1118/path_107938   1628092   \n",
       "1         1711945301    2540      https://domain_3207/path_175610   1013613   \n",
       "2         1712154596    4402      https://domain_2194/path_172150   8274161   \n",
       "3         1711941903    3833      https://domain_2042/path_144480  17082498   \n",
       "4         1712088484    3866        https://domain_3191/path_9105  12787875   \n",
       "...              ...     ...                                  ...       ...   \n",
       "10000449  1712161101     702       https://domain_662/path_131980   2062442   \n",
       "10000450  1711940706    3515       https://domain_1784/path_45033   2375719   \n",
       "10000451  1712107755    3173       https://domain_1654/path_48166  11781572   \n",
       "10000452  1712107427    3833       https://domain_1654/path_10504  15183751   \n",
       "10000453  1712034201     964  https://www.domain_1605/path_166938   6247888   \n",
       "\n",
       "                                                 user_agent  \n",
       "0         Mozilla/5.0 (Linux; Android 10; K) AppleWebKit...  \n",
       "1         Mozilla/5.0 (Linux; Android 8.1.0; Redmi 5 Plu...  \n",
       "2         Mozilla/5.0 (Windows NT 10.0; Win64; x64) Appl...  \n",
       "3         Mozilla/5.0 (Windows NT 10.0; Win64; x64) Appl...  \n",
       "4         Mozilla/5.0 (Windows NT 10.0; Win64; x64) Appl...  \n",
       "...                                                     ...  \n",
       "10000449  Mozilla/5.0 (X11; Linux x86_64) AppleWebKit/53...  \n",
       "10000450  Mozilla/5.0 (Linux; Android 10; K) AppleWebKit...  \n",
       "10000451  Mozilla/5.0 (Linux; arm_64; Android 13; SM-A14...  \n",
       "10000452  Mozilla/5.0 (Linux; arm_64; Android 12; SM-M21...  \n",
       "10000453  Mozilla/5.0 (Linux; Android 10; K) AppleWebKit...  \n",
       "\n",
       "[10000454 rows x 5 columns]"
      ]
     },
     "execution_count": 21,
     "metadata": {},
     "output_type": "execute_result"
    }
   ],
   "source": [
    "req1 = pd.read_parquet('mnt/requests/part_0.parquet')\n",
    "req1"
   ]
  },
  {
   "cell_type": "markdown",
   "id": "9e5882f5-ea2b-489d-8e71-a68e15038ae7",
   "metadata": {},
   "source": [
    "## Дерзайте!\n",
    "\n",
    "Вам необходимо построить предсказательную модель для прогнозирования пола и возраста пользователей по их посещениям. Таблица с тестовыми пользователями будет предоставлена вам за час до stop coding.\n",
    "\n",
    "ВАЖНО:\n",
    "* Таблицу с тестовыми данными нельзя использовать для обучения модели. Если жюри увидит, что вы использовали табличку с тестовыми данными - точность модели будет оцениваться в 0 баллов.\n",
    "* В ходе выступления необходимо продемонстрировать точность модели на тестовых данных."
   ]
  },
  {
   "cell_type": "code",
   "execution_count": null,
   "id": "406b5898-df6a-492f-af62-9323723a9672",
   "metadata": {},
   "outputs": [],
   "source": [
    "# ВАШ КОД ЗДЕСЬ!"
   ]
  },
  {
   "cell_type": "markdown",
   "id": "20dfa739-f610-4ed0-85ed-c51e5257c2c0",
   "metadata": {},
   "source": [
    "## Убираем за собой\n",
    "\n",
    "В конце работы можем размонтировать директорию:"
   ]
  },
  {
   "cell_type": "code",
   "execution_count": 19,
   "id": "1b0e539a-3fcb-4eaf-a692-0979e7ba2a63",
   "metadata": {
    "tags": []
   },
   "outputs": [
    {
     "name": "stdout",
     "output_type": "stream",
     "text": [
      "umount: /home/datadisk/jupyter-vkhack/vkhack/gender_prediction/mnt: not mounted.\n"
     ]
    }
   ],
   "source": [
    "!umount mnt"
   ]
  }
 ],
 "metadata": {
  "kernelspec": {
   "display_name": "Python 3 (ipykernel)",
   "language": "python",
   "name": "python3"
  },
  "language_info": {
   "codemirror_mode": {
    "name": "ipython",
    "version": 3
   },
   "file_extension": ".py",
   "mimetype": "text/x-python",
   "name": "python",
   "nbconvert_exporter": "python",
   "pygments_lexer": "ipython3",
   "version": "3.9.7"
  }
 },
 "nbformat": 4,
 "nbformat_minor": 5
}
